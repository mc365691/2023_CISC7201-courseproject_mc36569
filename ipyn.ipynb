{
  "cells": [
    {
      "cell_type": "markdown",
      "metadata": {
        "id": "view-in-github",
        "colab_type": "text"
      },
      "source": [
        "<a href=\"https://colab.research.google.com/github/mc365691/2023_CISC7201-courseproject_mc36569/blob/main/ipyn.ipynb\" target=\"_parent\"><img src=\"https://colab.research.google.com/assets/colab-badge.svg\" alt=\"Open In Colab\"/></a>"
      ]
    },
    {
      "cell_type": "markdown",
      "source": [
        "### **Machine Learning:  Predict Apple Company Stock Price**\n",
        "**MC365691 SOU KA FONG**"
      ],
      "metadata": {
        "id": "I1PA1ak8HH3-"
      },
      "id": "I1PA1ak8HH3-"
    },
    {
      "cell_type": "markdown",
      "source": [
        "Apple Company is an American multinational technology company. The current business including design, development and sales of electronics, computer software, online services, and personal computers. There are 502 retail stores which are located in 24 different countries. Furthermore, it also has online Apple stores and iTunes stores. The most popular products are iPhone, iPad, iMac, or iWatch, even everybody has owned one.\n",
        "\n",
        "The net income of Apple company is increasing rapidly. Therefore, I attempt to utilize machine learning to forecast Apple's stock movement because I am interested about how stock is performing.\n"
      ],
      "metadata": {
        "id": "iNvipZijsvix"
      },
      "id": "iNvipZijsvix"
    },
    {
      "cell_type": "markdown",
      "source": [
        "Stock price forecasting has always attracted people interested in investing in the stock market and stock exchange. It is also an important research topic in the financial world. Moreover,\n",
        "I will compare the characteristics of LSTM(Long Short-Term Memory) and Regresson model in predicting prices."
      ],
      "metadata": {
        "id": "gMZHwqTFSQc8"
      },
      "id": "gMZHwqTFSQc8"
    },
    {
      "cell_type": "code",
      "execution_count": 1,
      "id": "d518487a",
      "metadata": {
        "id": "d518487a"
      },
      "outputs": [],
      "source": [
        "import numpy as np\n",
        "import matplotlib.pyplot as plt\n",
        "import pandas as pd\n",
        "import yfinance as yf  #pip install yfinance collect stock price from yahoo\n"
      ]
    },
    {
      "cell_type": "markdown",
      "source": [
        "I recommend using Colab.google (https://colab.google/)\n",
        "\n",
        "Colab offers a free Jupyter notebook service, and many frequently used Python packages are pre-installed."
      ],
      "metadata": {
        "id": "BAZWrBAAiWWx"
      },
      "id": "BAZWrBAAiWWx"
    },
    {
      "cell_type": "markdown",
      "source": [
        "**Install with the pip command to set up a python environment**\n",
        "\n",
        "pip install numpy\n",
        "\n",
        "pip install matplotlib\n",
        "\n",
        "pip install pandas\n",
        "\n",
        "pip install yfinance"
      ],
      "metadata": {
        "id": "VVhk0Ox-8T33"
      },
      "id": "VVhk0Ox-8T33"
    },
    {
      "cell_type": "code",
      "execution_count": 3,
      "id": "c4c459c0",
      "metadata": {
        "colab": {
          "base_uri": "https://localhost:8080/"
        },
        "id": "c4c459c0",
        "outputId": "af6ece8a-1252-4f9a-e343-8a23ef471c98"
      },
      "outputs": [
        {
          "output_type": "stream",
          "name": "stdout",
          "text": [
            "\r[*********************100%%**********************]  1 of 1 completed\n"
          ]
        }
      ],
      "source": [
        "start ='2013-01-01'\n",
        "end = '2022-12-31'\n",
        "#apple company stock name 'AAPL'\n",
        "stock = 'AAPL'\n",
        "#data can download from\n",
        "data=yf.download(stock, start, end)"
      ]
    },
    {
      "cell_type": "markdown",
      "source": [
        "Download the Apple company's stock price from Yahoo finance. There we collect the start day of stcok is 2013-01-01 and end day is 2022-12-31."
      ],
      "metadata": {
        "id": "huTMSHyI8Zzc"
      },
      "id": "huTMSHyI8Zzc"
    },
    {
      "cell_type": "code",
      "execution_count": 4,
      "id": "7426d59a",
      "metadata": {
        "id": "7426d59a"
      },
      "outputs": [],
      "source": [
        "data.reset_index(inplace=True) # Reset to the integer index, mark the 0 to 2517"
      ]
    },
    {
      "cell_type": "code",
      "execution_count": 5,
      "id": "d6934085",
      "metadata": {
        "scrolled": true,
        "colab": {
          "base_uri": "https://localhost:8080/",
          "height": 424
        },
        "id": "d6934085",
        "outputId": "8de50785-1a24-4e3c-fbf9-e9c3283e1f57"
      },
      "outputs": [
        {
          "output_type": "execute_result",
          "data": {
            "text/plain": [
              "           Date        Open        High         Low       Close   Adj Close  \\\n",
              "0    2013-01-02   19.779285   19.821428   19.343929   19.608213   16.769094   \n",
              "1    2013-01-03   19.567142   19.631071   19.321428   19.360714   16.557428   \n",
              "2    2013-01-04   19.177500   19.236786   18.779642   18.821428   16.096230   \n",
              "3    2013-01-07   18.642857   18.903570   18.400000   18.710714   16.001547   \n",
              "4    2013-01-08   18.900356   18.996071   18.616072   18.761070   16.044611   \n",
              "...         ...         ...         ...         ...         ...         ...   \n",
              "2513 2022-12-23  130.919998  132.419998  129.639999  131.860001  131.127060   \n",
              "2514 2022-12-27  131.380005  131.410004  128.720001  130.029999  129.307236   \n",
              "2515 2022-12-28  129.669998  131.029999  125.870003  126.040001  125.339409   \n",
              "2516 2022-12-29  127.989998  130.479996  127.730003  129.610001  128.889572   \n",
              "2517 2022-12-30  128.410004  129.949997  127.430000  129.929993  129.207779   \n",
              "\n",
              "         Volume  \n",
              "0     560518000  \n",
              "1     352965200  \n",
              "2     594333600  \n",
              "3     484156400  \n",
              "4     458707200  \n",
              "...         ...  \n",
              "2513   63814900  \n",
              "2514   69007800  \n",
              "2515   85438400  \n",
              "2516   75703700  \n",
              "2517   77034200  \n",
              "\n",
              "[2518 rows x 7 columns]"
            ],
            "text/html": [
              "\n",
              "  <div id=\"df-c3b9c100-3611-4753-a77a-a6f6ca3086b1\" class=\"colab-df-container\">\n",
              "    <div>\n",
              "<style scoped>\n",
              "    .dataframe tbody tr th:only-of-type {\n",
              "        vertical-align: middle;\n",
              "    }\n",
              "\n",
              "    .dataframe tbody tr th {\n",
              "        vertical-align: top;\n",
              "    }\n",
              "\n",
              "    .dataframe thead th {\n",
              "        text-align: right;\n",
              "    }\n",
              "</style>\n",
              "<table border=\"1\" class=\"dataframe\">\n",
              "  <thead>\n",
              "    <tr style=\"text-align: right;\">\n",
              "      <th></th>\n",
              "      <th>Date</th>\n",
              "      <th>Open</th>\n",
              "      <th>High</th>\n",
              "      <th>Low</th>\n",
              "      <th>Close</th>\n",
              "      <th>Adj Close</th>\n",
              "      <th>Volume</th>\n",
              "    </tr>\n",
              "  </thead>\n",
              "  <tbody>\n",
              "    <tr>\n",
              "      <th>0</th>\n",
              "      <td>2013-01-02</td>\n",
              "      <td>19.779285</td>\n",
              "      <td>19.821428</td>\n",
              "      <td>19.343929</td>\n",
              "      <td>19.608213</td>\n",
              "      <td>16.769094</td>\n",
              "      <td>560518000</td>\n",
              "    </tr>\n",
              "    <tr>\n",
              "      <th>1</th>\n",
              "      <td>2013-01-03</td>\n",
              "      <td>19.567142</td>\n",
              "      <td>19.631071</td>\n",
              "      <td>19.321428</td>\n",
              "      <td>19.360714</td>\n",
              "      <td>16.557428</td>\n",
              "      <td>352965200</td>\n",
              "    </tr>\n",
              "    <tr>\n",
              "      <th>2</th>\n",
              "      <td>2013-01-04</td>\n",
              "      <td>19.177500</td>\n",
              "      <td>19.236786</td>\n",
              "      <td>18.779642</td>\n",
              "      <td>18.821428</td>\n",
              "      <td>16.096230</td>\n",
              "      <td>594333600</td>\n",
              "    </tr>\n",
              "    <tr>\n",
              "      <th>3</th>\n",
              "      <td>2013-01-07</td>\n",
              "      <td>18.642857</td>\n",
              "      <td>18.903570</td>\n",
              "      <td>18.400000</td>\n",
              "      <td>18.710714</td>\n",
              "      <td>16.001547</td>\n",
              "      <td>484156400</td>\n",
              "    </tr>\n",
              "    <tr>\n",
              "      <th>4</th>\n",
              "      <td>2013-01-08</td>\n",
              "      <td>18.900356</td>\n",
              "      <td>18.996071</td>\n",
              "      <td>18.616072</td>\n",
              "      <td>18.761070</td>\n",
              "      <td>16.044611</td>\n",
              "      <td>458707200</td>\n",
              "    </tr>\n",
              "    <tr>\n",
              "      <th>...</th>\n",
              "      <td>...</td>\n",
              "      <td>...</td>\n",
              "      <td>...</td>\n",
              "      <td>...</td>\n",
              "      <td>...</td>\n",
              "      <td>...</td>\n",
              "      <td>...</td>\n",
              "    </tr>\n",
              "    <tr>\n",
              "      <th>2513</th>\n",
              "      <td>2022-12-23</td>\n",
              "      <td>130.919998</td>\n",
              "      <td>132.419998</td>\n",
              "      <td>129.639999</td>\n",
              "      <td>131.860001</td>\n",
              "      <td>131.127060</td>\n",
              "      <td>63814900</td>\n",
              "    </tr>\n",
              "    <tr>\n",
              "      <th>2514</th>\n",
              "      <td>2022-12-27</td>\n",
              "      <td>131.380005</td>\n",
              "      <td>131.410004</td>\n",
              "      <td>128.720001</td>\n",
              "      <td>130.029999</td>\n",
              "      <td>129.307236</td>\n",
              "      <td>69007800</td>\n",
              "    </tr>\n",
              "    <tr>\n",
              "      <th>2515</th>\n",
              "      <td>2022-12-28</td>\n",
              "      <td>129.669998</td>\n",
              "      <td>131.029999</td>\n",
              "      <td>125.870003</td>\n",
              "      <td>126.040001</td>\n",
              "      <td>125.339409</td>\n",
              "      <td>85438400</td>\n",
              "    </tr>\n",
              "    <tr>\n",
              "      <th>2516</th>\n",
              "      <td>2022-12-29</td>\n",
              "      <td>127.989998</td>\n",
              "      <td>130.479996</td>\n",
              "      <td>127.730003</td>\n",
              "      <td>129.610001</td>\n",
              "      <td>128.889572</td>\n",
              "      <td>75703700</td>\n",
              "    </tr>\n",
              "    <tr>\n",
              "      <th>2517</th>\n",
              "      <td>2022-12-30</td>\n",
              "      <td>128.410004</td>\n",
              "      <td>129.949997</td>\n",
              "      <td>127.430000</td>\n",
              "      <td>129.929993</td>\n",
              "      <td>129.207779</td>\n",
              "      <td>77034200</td>\n",
              "    </tr>\n",
              "  </tbody>\n",
              "</table>\n",
              "<p>2518 rows × 7 columns</p>\n",
              "</div>\n",
              "    <div class=\"colab-df-buttons\">\n",
              "\n",
              "  <div class=\"colab-df-container\">\n",
              "    <button class=\"colab-df-convert\" onclick=\"convertToInteractive('df-c3b9c100-3611-4753-a77a-a6f6ca3086b1')\"\n",
              "            title=\"Convert this dataframe to an interactive table.\"\n",
              "            style=\"display:none;\">\n",
              "\n",
              "  <svg xmlns=\"http://www.w3.org/2000/svg\" height=\"24px\" viewBox=\"0 -960 960 960\">\n",
              "    <path d=\"M120-120v-720h720v720H120Zm60-500h600v-160H180v160Zm220 220h160v-160H400v160Zm0 220h160v-160H400v160ZM180-400h160v-160H180v160Zm440 0h160v-160H620v160ZM180-180h160v-160H180v160Zm440 0h160v-160H620v160Z\"/>\n",
              "  </svg>\n",
              "    </button>\n",
              "\n",
              "  <style>\n",
              "    .colab-df-container {\n",
              "      display:flex;\n",
              "      gap: 12px;\n",
              "    }\n",
              "\n",
              "    .colab-df-convert {\n",
              "      background-color: #E8F0FE;\n",
              "      border: none;\n",
              "      border-radius: 50%;\n",
              "      cursor: pointer;\n",
              "      display: none;\n",
              "      fill: #1967D2;\n",
              "      height: 32px;\n",
              "      padding: 0 0 0 0;\n",
              "      width: 32px;\n",
              "    }\n",
              "\n",
              "    .colab-df-convert:hover {\n",
              "      background-color: #E2EBFA;\n",
              "      box-shadow: 0px 1px 2px rgba(60, 64, 67, 0.3), 0px 1px 3px 1px rgba(60, 64, 67, 0.15);\n",
              "      fill: #174EA6;\n",
              "    }\n",
              "\n",
              "    .colab-df-buttons div {\n",
              "      margin-bottom: 4px;\n",
              "    }\n",
              "\n",
              "    [theme=dark] .colab-df-convert {\n",
              "      background-color: #3B4455;\n",
              "      fill: #D2E3FC;\n",
              "    }\n",
              "\n",
              "    [theme=dark] .colab-df-convert:hover {\n",
              "      background-color: #434B5C;\n",
              "      box-shadow: 0px 1px 3px 1px rgba(0, 0, 0, 0.15);\n",
              "      filter: drop-shadow(0px 1px 2px rgba(0, 0, 0, 0.3));\n",
              "      fill: #FFFFFF;\n",
              "    }\n",
              "  </style>\n",
              "\n",
              "    <script>\n",
              "      const buttonEl =\n",
              "        document.querySelector('#df-c3b9c100-3611-4753-a77a-a6f6ca3086b1 button.colab-df-convert');\n",
              "      buttonEl.style.display =\n",
              "        google.colab.kernel.accessAllowed ? 'block' : 'none';\n",
              "\n",
              "      async function convertToInteractive(key) {\n",
              "        const element = document.querySelector('#df-c3b9c100-3611-4753-a77a-a6f6ca3086b1');\n",
              "        const dataTable =\n",
              "          await google.colab.kernel.invokeFunction('convertToInteractive',\n",
              "                                                    [key], {});\n",
              "        if (!dataTable) return;\n",
              "\n",
              "        const docLinkHtml = 'Like what you see? Visit the ' +\n",
              "          '<a target=\"_blank\" href=https://colab.research.google.com/notebooks/data_table.ipynb>data table notebook</a>'\n",
              "          + ' to learn more about interactive tables.';\n",
              "        element.innerHTML = '';\n",
              "        dataTable['output_type'] = 'display_data';\n",
              "        await google.colab.output.renderOutput(dataTable, element);\n",
              "        const docLink = document.createElement('div');\n",
              "        docLink.innerHTML = docLinkHtml;\n",
              "        element.appendChild(docLink);\n",
              "      }\n",
              "    </script>\n",
              "  </div>\n",
              "\n",
              "\n",
              "<div id=\"df-b28e8732-583b-4ef0-bac9-1a0a9f1a28ca\">\n",
              "  <button class=\"colab-df-quickchart\" onclick=\"quickchart('df-b28e8732-583b-4ef0-bac9-1a0a9f1a28ca')\"\n",
              "            title=\"Suggest charts\"\n",
              "            style=\"display:none;\">\n",
              "\n",
              "<svg xmlns=\"http://www.w3.org/2000/svg\" height=\"24px\"viewBox=\"0 0 24 24\"\n",
              "     width=\"24px\">\n",
              "    <g>\n",
              "        <path d=\"M19 3H5c-1.1 0-2 .9-2 2v14c0 1.1.9 2 2 2h14c1.1 0 2-.9 2-2V5c0-1.1-.9-2-2-2zM9 17H7v-7h2v7zm4 0h-2V7h2v10zm4 0h-2v-4h2v4z\"/>\n",
              "    </g>\n",
              "</svg>\n",
              "  </button>\n",
              "\n",
              "<style>\n",
              "  .colab-df-quickchart {\n",
              "      --bg-color: #E8F0FE;\n",
              "      --fill-color: #1967D2;\n",
              "      --hover-bg-color: #E2EBFA;\n",
              "      --hover-fill-color: #174EA6;\n",
              "      --disabled-fill-color: #AAA;\n",
              "      --disabled-bg-color: #DDD;\n",
              "  }\n",
              "\n",
              "  [theme=dark] .colab-df-quickchart {\n",
              "      --bg-color: #3B4455;\n",
              "      --fill-color: #D2E3FC;\n",
              "      --hover-bg-color: #434B5C;\n",
              "      --hover-fill-color: #FFFFFF;\n",
              "      --disabled-bg-color: #3B4455;\n",
              "      --disabled-fill-color: #666;\n",
              "  }\n",
              "\n",
              "  .colab-df-quickchart {\n",
              "    background-color: var(--bg-color);\n",
              "    border: none;\n",
              "    border-radius: 50%;\n",
              "    cursor: pointer;\n",
              "    display: none;\n",
              "    fill: var(--fill-color);\n",
              "    height: 32px;\n",
              "    padding: 0;\n",
              "    width: 32px;\n",
              "  }\n",
              "\n",
              "  .colab-df-quickchart:hover {\n",
              "    background-color: var(--hover-bg-color);\n",
              "    box-shadow: 0 1px 2px rgba(60, 64, 67, 0.3), 0 1px 3px 1px rgba(60, 64, 67, 0.15);\n",
              "    fill: var(--button-hover-fill-color);\n",
              "  }\n",
              "\n",
              "  .colab-df-quickchart-complete:disabled,\n",
              "  .colab-df-quickchart-complete:disabled:hover {\n",
              "    background-color: var(--disabled-bg-color);\n",
              "    fill: var(--disabled-fill-color);\n",
              "    box-shadow: none;\n",
              "  }\n",
              "\n",
              "  .colab-df-spinner {\n",
              "    border: 2px solid var(--fill-color);\n",
              "    border-color: transparent;\n",
              "    border-bottom-color: var(--fill-color);\n",
              "    animation:\n",
              "      spin 1s steps(1) infinite;\n",
              "  }\n",
              "\n",
              "  @keyframes spin {\n",
              "    0% {\n",
              "      border-color: transparent;\n",
              "      border-bottom-color: var(--fill-color);\n",
              "      border-left-color: var(--fill-color);\n",
              "    }\n",
              "    20% {\n",
              "      border-color: transparent;\n",
              "      border-left-color: var(--fill-color);\n",
              "      border-top-color: var(--fill-color);\n",
              "    }\n",
              "    30% {\n",
              "      border-color: transparent;\n",
              "      border-left-color: var(--fill-color);\n",
              "      border-top-color: var(--fill-color);\n",
              "      border-right-color: var(--fill-color);\n",
              "    }\n",
              "    40% {\n",
              "      border-color: transparent;\n",
              "      border-right-color: var(--fill-color);\n",
              "      border-top-color: var(--fill-color);\n",
              "    }\n",
              "    60% {\n",
              "      border-color: transparent;\n",
              "      border-right-color: var(--fill-color);\n",
              "    }\n",
              "    80% {\n",
              "      border-color: transparent;\n",
              "      border-right-color: var(--fill-color);\n",
              "      border-bottom-color: var(--fill-color);\n",
              "    }\n",
              "    90% {\n",
              "      border-color: transparent;\n",
              "      border-bottom-color: var(--fill-color);\n",
              "    }\n",
              "  }\n",
              "</style>\n",
              "\n",
              "  <script>\n",
              "    async function quickchart(key) {\n",
              "      const quickchartButtonEl =\n",
              "        document.querySelector('#' + key + ' button');\n",
              "      quickchartButtonEl.disabled = true;  // To prevent multiple clicks.\n",
              "      quickchartButtonEl.classList.add('colab-df-spinner');\n",
              "      try {\n",
              "        const charts = await google.colab.kernel.invokeFunction(\n",
              "            'suggestCharts', [key], {});\n",
              "      } catch (error) {\n",
              "        console.error('Error during call to suggestCharts:', error);\n",
              "      }\n",
              "      quickchartButtonEl.classList.remove('colab-df-spinner');\n",
              "      quickchartButtonEl.classList.add('colab-df-quickchart-complete');\n",
              "    }\n",
              "    (() => {\n",
              "      let quickchartButtonEl =\n",
              "        document.querySelector('#df-b28e8732-583b-4ef0-bac9-1a0a9f1a28ca button');\n",
              "      quickchartButtonEl.style.display =\n",
              "        google.colab.kernel.accessAllowed ? 'block' : 'none';\n",
              "    })();\n",
              "  </script>\n",
              "</div>\n",
              "    </div>\n",
              "  </div>\n"
            ]
          },
          "metadata": {},
          "execution_count": 5
        }
      ],
      "source": [
        "data"
      ]
    },
    {
      "cell_type": "code",
      "execution_count": 6,
      "id": "2115fd03",
      "metadata": {
        "id": "2115fd03"
      },
      "outputs": [],
      "source": [
        "moving_100_days = data.Close.rolling(100).mean()   #insight the 100days average moving"
      ]
    },
    {
      "cell_type": "code",
      "execution_count": 9,
      "id": "78acf304",
      "metadata": {
        "colab": {
          "base_uri": "https://localhost:8080/",
          "height": 641
        },
        "id": "78acf304",
        "outputId": "ea82bce2-b4e8-41ab-8597-4e31ea10af69"
      },
      "outputs": [
        {
          "output_type": "display_data",
          "data": {
            "text/plain": [
              "<Figure size 900x700 with 1 Axes>"
            ],
            "image/png": "[encoded data removed]"
          },
          "metadata": {}
        }
      ],
      "source": [
        "plt.figure(figsize=(9,7))   #plot the chart, mark down figure the size and color\n",
        "plt.plot(moving_100_days, 'y')  #yellow\n",
        "plt.plot(data.Close, 'g')  #green\n",
        "plt.title('AAPL Stock 100days average Price and Closing Price')\n",
        "plt.xlabel('Trading days')\n",
        "plt.ylabel('Closing Price')\n",
        "\n",
        "plt.show()"
      ]
    },
    {
      "cell_type": "markdown",
      "source": [
        "The **yellow** line on this chart illustrates the average price of APPLE's stock per every 100 days.\n",
        "\n",
        "In general, investors focus on the **closing price**(green color line) when making stock investments because it indicates the stock's price trend and can be used to track the stock's volatility.\n",
        "\n",
        "In my view, the stock may be in an upward trend if the closing price is higher than the average. Furthermore, we evaluate a stock's volatility risk by comparing its closing and average price. In this chart, a small difference between them could indicate that the price of Apple's stock is less volatile and more stable.\n"
      ],
      "metadata": {
        "id": "gQLKQVfCTphA"
      },
      "id": "gQLKQVfCTphA"
    },
    {
      "cell_type": "markdown",
      "source": [
        "### **Insight of Closing price and 100 & 200 days average stock price moving**"
      ],
      "metadata": {
        "id": "dVESfuIj6h5L"
      },
      "id": "dVESfuIj6h5L"
    },
    {
      "cell_type": "code",
      "execution_count": 10,
      "id": "2bf4cbf0",
      "metadata": {
        "id": "2bf4cbf0"
      },
      "outputs": [],
      "source": [
        "moving_200_days = data.Close.rolling(200).mean()  #insight the 200days average moving"
      ]
    },
    {
      "cell_type": "code",
      "source": [
        "plt.figure(figsize=(9,7))   #compare 100days 和 200days average moving\n",
        "plt.plot(moving_100_days, 'y', label='100days average moving')\n",
        "plt.plot(moving_200_days, 'blue',label='200days average moving')\n",
        "plt.plot(data.Close, 'green',label='Closing price')\n",
        "plt.legend()\n",
        "plt.title('AAPL Stock Price Moving')\n",
        "plt.xlabel('Trading days')\n",
        "plt.ylabel('Closing Price')\n",
        "plt.show()"
      ],
      "metadata": {
        "colab": {
          "base_uri": "https://localhost:8080/",
          "height": 641
        },
        "id": "AitVcNmBxnL0",
        "outputId": "088a02ab-3b7e-4374-b99a-12de0568403a"
      },
      "id": "AitVcNmBxnL0",
      "execution_count": 11,
      "outputs": [
        {
          "output_type": "display_data",
          "data": {
            "text/plain": [
              "<Figure size 900x700 with 1 Axes>"
            ],
            "image/png": "[encoded data removed]"
          },
          "metadata": {}
        }
      ]
    },
    {
      "cell_type": "markdown",
      "source": [
        "**Green line:** Closing price\n",
        "\n",
        "**Yellow line:** 100days average stock price moving\n",
        "\n",
        "**Blue line:** 200days average stock price moving\n",
        "\n",
        "\n",
        "\n",
        "***Insight:*** Apple company by building up a large user base of its own products over many years, Apple has a large and loyal customer, and seeks to diversify its business and capitalize on the advantages of the Apple brand.\n",
        "Over the past nine years, there has been an upward trend in stock prices, accompanied by small fluctuations within the 100-day and 200-day range and generally stable trends.\n",
        "\n",
        "More specifically, the stock price has increased significantly over the past three years, there have been noticeable dramatic fluctuations in the closing price, and the risk is relatively high. Meanwhile, there is an obvious distinction between 200 days average moving and closing prices. As a result, it is clear that Apple's stock is volatile, and before making an investment, we ought to evaluate the risks and return."
      ],
      "metadata": {
        "id": "JpUX8-rbff-9"
      },
      "id": "JpUX8-rbff-9"
    },
    {
      "cell_type": "code",
      "source": [
        "data.dropna(inplace=True) #cleaning activities,missing values will be deleted."
      ],
      "metadata": {
        "id": "5LbjdlN01xqp"
      },
      "id": "5LbjdlN01xqp",
      "execution_count": 12,
      "outputs": []
    },
    {
      "cell_type": "markdown",
      "source": [
        "**Data collection and cleaning:** In charge of collecting information from yahoo finace sources, we have to use instruments or write scripts to clean and preprocess\n",
        "the data in order to guarantee its accuracy and reliability.\n",
        "We can just check it out if there are any null values.  Missing values which will be deleted.\n",
        "Then, we need to insight the daily closing price of stock."
      ],
      "metadata": {
        "id": "0tScLvB62B_A"
      },
      "id": "0tScLvB62B_A"
    },
    {
      "cell_type": "markdown",
      "source": [
        "### **Machine Learing Predict Apple stock price using LSTM**\n",
        "LSTM is a special recurrent neural network (RNN) structure for processing sequence data, such as speech recognition, natural language processing, video analysis and other tasks.\n",
        "\n",
        "(To learn more about LSTM)\n",
        "https://blog.csdn.net/qq_41815943/article/details/122736432"
      ],
      "metadata": {
        "id": "8743LUQO5Fxq"
      },
      "id": "8743LUQO5Fxq"
    },
    {
      "cell_type": "code",
      "source": [
        "#100days 75% of training data, 25% of testing data\n",
        "data_training = pd.DataFrame(data.Close[0: int(len(data)*0.75)])\n",
        "data_testing = pd.DataFrame(data.Close[int(len(data)*0.75): len(data)])"
      ],
      "metadata": {
        "id": "gFc_M5rx55VF"
      },
      "id": "gFc_M5rx55VF",
      "execution_count": 13,
      "outputs": []
    },
    {
      "cell_type": "markdown",
      "source": [
        "First 100days **75% of training** data set, remaining **25% of testing** data set. Next, we can draw the shape data and scope to training data set."
      ],
      "metadata": {
        "id": "56_lt46O7eqf"
      },
      "id": "56_lt46O7eqf"
    },
    {
      "cell_type": "code",
      "source": [
        "data_training.shape[0] #find the training data set"
      ],
      "metadata": {
        "id": "tCsxSB488M29",
        "colab": {
          "base_uri": "https://localhost:8080/"
        },
        "outputId": "98e2f557-85cc-4961-b5e5-550b6da4a459"
      },
      "id": "tCsxSB488M29",
      "execution_count": 14,
      "outputs": [
        {
          "output_type": "execute_result",
          "data": {
            "text/plain": [
              "1888"
            ]
          },
          "metadata": {},
          "execution_count": 14
        }
      ]
    },
    {
      "cell_type": "code",
      "source": [
        "data_testing.shape[0] #25% data set use for testing"
      ],
      "metadata": {
        "colab": {
          "base_uri": "https://localhost:8080/"
        },
        "id": "zmPIgEHPAVMF",
        "outputId": "0dcbb615-6f97-414b-c9e1-3fd24a083004"
      },
      "id": "zmPIgEHPAVMF",
      "execution_count": 15,
      "outputs": [
        {
          "output_type": "execute_result",
          "data": {
            "text/plain": [
              "630"
            ]
          },
          "metadata": {},
          "execution_count": 15
        }
      ]
    },
    {
      "cell_type": "markdown",
      "source": [
        "There is 1888 data of Apple stock price use in our training model. Further, 630 trading days data set will be testing."
      ],
      "metadata": {
        "id": "v0gF6VUi_GKA"
      },
      "id": "v0gF6VUi_GKA"
    },
    {
      "cell_type": "code",
      "source": [
        "from sklearn.preprocessing import MinMaxScaler #Scikit-learn a machine learning library for Python\n",
        "scaler=MinMaxScaler(feature_range=(0,1))  #The data is scaled, and the scaled data falls between 0 and 1"
      ],
      "metadata": {
        "id": "BcrJDCtZBjA9"
      },
      "id": "BcrJDCtZBjA9",
      "execution_count": 18,
      "outputs": []
    },
    {
      "cell_type": "markdown",
      "source": [
        "pip install -U scikit-learn\n",
        "\n",
        "To download and install the most recent version of the Scikit-learn library from the Python suite index, use the pip tool."
      ],
      "metadata": {
        "id": "Epd6F6ZfDKrK"
      },
      "id": "Epd6F6ZfDKrK"
    },
    {
      "cell_type": "code",
      "source": [
        "data_training_scale = scaler.fit_transform(data_training) #Using the data_training data, which determine the minimum and maximum values needed for feature scaling."
      ],
      "metadata": {
        "id": "lnAX8n6qCL1x"
      },
      "id": "lnAX8n6qCL1x",
      "execution_count": 19,
      "outputs": []
    },
    {
      "cell_type": "code",
      "source": [
        "y=[]   #The training data is stored in two blank lists.\n",
        "x=[]\n",
        "for i in range(100, data_training_scale.shape[0]):\n",
        "  x.append(data_training_scale[i-100:i])   #Data range from i-100 to i\n",
        "  y.append(data_training_scale[i,0])"
      ],
      "metadata": {
        "id": "W6kdLiw3Co87"
      },
      "id": "W6kdLiw3Co87",
      "execution_count": 20,
      "outputs": []
    },
    {
      "cell_type": "markdown",
      "source": [
        "To hold the training data's target and feature variables, two blank lists are made.\n",
        "\n",
        "Then,\n",
        "Y represent the dependent variable.\n",
        "X represent the independden variable."
      ],
      "metadata": {
        "id": "SUQAkBS9HbuL"
      },
      "id": "SUQAkBS9HbuL"
    },
    {
      "cell_type": "code",
      "source": [
        "x, y = np.array(x), np.array(y) #Convert x and y to NumPy arrays"
      ],
      "metadata": {
        "id": "amlqO886JpLs"
      },
      "id": "amlqO886JpLs",
      "execution_count": 21,
      "outputs": []
    },
    {
      "cell_type": "code",
      "source": [
        "from keras.layers import Dense,Dropout,LSTM  #Neural network models are constructed using it.\n",
        "from keras.models import Sequential"
      ],
      "metadata": {
        "id": "SsrHgplnEyPj"
      },
      "id": "SsrHgplnEyPj",
      "execution_count": 22,
      "outputs": []
    },
    {
      "cell_type": "markdown",
      "source": [
        "pip install keras\n"
      ],
      "metadata": {
        "id": "RC9zAIvuKC4K"
      },
      "id": "RC9zAIvuKC4K"
    },
    {
      "cell_type": "code",
      "source": [
        "model = Sequential()   #Arrange several layers of a neural network sequentially.\n",
        "model.add(LSTM(units=50,activation= 'relu',return_sequences = True, input_shape = ((x.shape[1],1)))) #for example: units=50 indicates that there are 50 neurons in that layer.\n",
        "model.add(Dropout(0.1))   #used to reduce the risk of overfitting by randomly discarding 10% of neurons.\n",
        "model.add(LSTM(units = 70,activation='relu', return_sequences = True))\n",
        "model.add(Dropout(0.2))\n",
        "model.add(LSTM(units = 90,activation= 'relu', return_sequences = True))\n",
        "model.add(Dropout(0.3))\n",
        "model.add(LSTM(units = 120,activation= 'relu'))\n",
        "model.add(Dropout(0.4))\n",
        "model.add(Dense(units =1))   #as we only predict closing price, units=1"
      ],
      "metadata": {
        "id": "IJDRD78tNyLW"
      },
      "id": "IJDRD78tNyLW",
      "execution_count": 23,
      "outputs": []
    },
    {
      "cell_type": "markdown",
      "source": [
        "We arrange several layers of a neural network sequentially.\n",
        "\n",
        "Using multiple layers of LSTM and Dropout, this code constructs a neural network model for learning and predicting sequence data. We have the ability to modify and enhance the model's specific architecture to suit our requirements.\n",
        "\n",
        "The probability of overfitting is decreased by dropout. In order to enhance the model's capacity for generalization and resistance to overfitting, it is used during the training phase to specify the probability.\n",
        "\n",
        "***For example:*** you can set 0.5 Dropout, that reduce the risk of overfitting by randomly discarding 50% of neurons.\n",
        "\n",
        "In my view, the complexity of your dataset will determine how many units parameters the LSTM layer needs.\n",
        "\n",
        "In this situation, when you have **huge** amount of data set, you can consider utilizing **bigger units**. You can try to set diiference units to improve the performance of your model.\n",
        "\n"
      ],
      "metadata": {
        "id": "BgqwE4KeQ9fU"
      },
      "id": "BgqwE4KeQ9fU"
    },
    {
      "cell_type": "code",
      "source": [
        "model.compile(optimizer = 'adam', loss = 'mean_squared_error')\n",
        "#Adam minimizes the loss function of the model\n"
      ],
      "metadata": {
        "id": "mMk7TO1mRDGh"
      },
      "id": "mMk7TO1mRDGh",
      "execution_count": 24,
      "outputs": []
    },
    {
      "cell_type": "markdown",
      "source": [
        "**Building a neural network model:**\n",
        "\n",
        "The *difference* between the model's predicted value and the actual value is measured by mean squared error.\n",
        "\n",
        "The number of training times and training samples are determined based on the size of the data set.\n",
        "\n",
        "You can try to adjust the size of the parameters to avoid overfitting problems.\n",
        "\n",
        "Adjust and optimize the performance of your model repeatedly.\n"
      ],
      "metadata": {
        "id": "z2GeIwHkBxie"
      },
      "id": "z2GeIwHkBxie"
    },
    {
      "cell_type": "code",
      "source": [
        "model.fit(x,y,epochs = 52, batch_size =33, verbose=1)\n",
        "#input data x, and outcome y\n",
        "#epochs=52 represent the number of times during training\n",
        "#each training used 33 samples\n",
        "#verbose=1, displays a progress bar"
      ],
      "metadata": {
        "colab": {
          "base_uri": "https://localhost:8080/"
        },
        "id": "EJ521DD08jEQ",
        "outputId": "ca4607a2-27da-4a58-a3d1-253319af90b9"
      },
      "id": "EJ521DD08jEQ",
      "execution_count": 25,
      "outputs": [
        {
          "output_type": "stream",
          "name": "stdout",
          "text": [
            "Epoch 1/52\n",
            "55/55 [==============================] - 26s 336ms/step - loss: 0.0193\n",
            "Epoch 2/52\n",
            "55/55 [==============================] - 17s 307ms/step - loss: 0.0044\n",
            "Epoch 3/52\n",
            "55/55 [==============================] - 17s 308ms/step - loss: 0.0036\n",
            "Epoch 4/52\n",
            "55/55 [==============================] - 18s 334ms/step - loss: 0.0034\n",
            "Epoch 5/52\n",
            "55/55 [==============================] - 18s 332ms/step - loss: 0.0029\n",
            "Epoch 6/52\n",
            "55/55 [==============================] - 18s 330ms/step - loss: 0.0034\n",
            "Epoch 7/52\n",
            "55/55 [==============================] - 17s 319ms/step - loss: 0.0031\n",
            "Epoch 8/52\n",
            "55/55 [==============================] - 19s 339ms/step - loss: 0.0031\n",
            "Epoch 9/52\n",
            "55/55 [==============================] - 17s 308ms/step - loss: 0.0030\n",
            "Epoch 10/52\n",
            "55/55 [==============================] - 18s 328ms/step - loss: 0.0026\n",
            "Epoch 11/52\n",
            "55/55 [==============================] - 24s 449ms/step - loss: 0.0028\n",
            "Epoch 12/52\n",
            "55/55 [==============================] - 17s 308ms/step - loss: 0.0028\n",
            "Epoch 13/52\n",
            "55/55 [==============================] - 17s 309ms/step - loss: 0.0027\n",
            "Epoch 14/52\n",
            "55/55 [==============================] - 19s 338ms/step - loss: 0.0024\n",
            "Epoch 15/52\n",
            "55/55 [==============================] - 17s 308ms/step - loss: 0.0023\n",
            "Epoch 16/52\n",
            "55/55 [==============================] - 17s 308ms/step - loss: 0.0019\n",
            "Epoch 17/52\n",
            "55/55 [==============================] - 27s 502ms/step - loss: 0.0021\n",
            "Epoch 18/52\n",
            "55/55 [==============================] - 24s 432ms/step - loss: 0.0022\n",
            "Epoch 19/52\n",
            "55/55 [==============================] - 24s 433ms/step - loss: 0.0022\n",
            "Epoch 20/52\n",
            "55/55 [==============================] - 24s 424ms/step - loss: 0.0019\n",
            "Epoch 21/52\n",
            "55/55 [==============================] - 21s 382ms/step - loss: 0.0020\n",
            "Epoch 22/52\n",
            "55/55 [==============================] - 17s 308ms/step - loss: 0.0019\n",
            "Epoch 23/52\n",
            "55/55 [==============================] - 17s 319ms/step - loss: 0.0016\n",
            "Epoch 24/52\n",
            "55/55 [==============================] - 17s 308ms/step - loss: 0.0019\n",
            "Epoch 25/52\n",
            "55/55 [==============================] - 19s 337ms/step - loss: 0.0018\n",
            "Epoch 26/52\n",
            "55/55 [==============================] - 17s 307ms/step - loss: 0.0020\n",
            "Epoch 27/52\n",
            "55/55 [==============================] - 17s 307ms/step - loss: 0.0016\n",
            "Epoch 28/52\n",
            "55/55 [==============================] - 17s 308ms/step - loss: 0.0019\n",
            "Epoch 29/52\n",
            "55/55 [==============================] - 19s 335ms/step - loss: 0.0016\n",
            "Epoch 30/52\n",
            "55/55 [==============================] - 18s 319ms/step - loss: 0.0017\n",
            "Epoch 31/52\n",
            "55/55 [==============================] - 19s 353ms/step - loss: 0.0017\n",
            "Epoch 32/52\n",
            "55/55 [==============================] - 19s 337ms/step - loss: 0.0018\n",
            "Epoch 33/52\n",
            "55/55 [==============================] - 17s 309ms/step - loss: 0.0019\n",
            "Epoch 34/52\n",
            "55/55 [==============================] - 17s 308ms/step - loss: 0.0018\n",
            "Epoch 35/52\n",
            "55/55 [==============================] - 17s 312ms/step - loss: 0.0017\n",
            "Epoch 36/52\n",
            "55/55 [==============================] - 19s 341ms/step - loss: 0.0013\n",
            "Epoch 37/52\n",
            "55/55 [==============================] - 17s 308ms/step - loss: 0.0015\n",
            "Epoch 38/52\n",
            "55/55 [==============================] - 24s 448ms/step - loss: 0.0016\n",
            "Epoch 39/52\n",
            "55/55 [==============================] - 17s 314ms/step - loss: 0.0015\n",
            "Epoch 40/52\n",
            "55/55 [==============================] - 17s 308ms/step - loss: 0.0017\n",
            "Epoch 41/52\n",
            "55/55 [==============================] - 17s 317ms/step - loss: 0.0015\n",
            "Epoch 42/52\n",
            "55/55 [==============================] - 18s 327ms/step - loss: 0.0017\n",
            "Epoch 43/52\n",
            "55/55 [==============================] - 17s 309ms/step - loss: 0.0014\n",
            "Epoch 44/52\n",
            "55/55 [==============================] - 17s 308ms/step - loss: 0.0014\n",
            "Epoch 45/52\n",
            "55/55 [==============================] - 18s 326ms/step - loss: 0.0015\n",
            "Epoch 46/52\n",
            "55/55 [==============================] - 18s 320ms/step - loss: 0.0012\n",
            "Epoch 47/52\n",
            "55/55 [==============================] - 17s 308ms/step - loss: 0.0014\n",
            "Epoch 48/52\n",
            "55/55 [==============================] - 17s 307ms/step - loss: 0.0013\n",
            "Epoch 49/52\n",
            "55/55 [==============================] - 18s 329ms/step - loss: 0.0012\n",
            "Epoch 50/52\n",
            "55/55 [==============================] - 18s 324ms/step - loss: 0.0013\n",
            "Epoch 51/52\n",
            "55/55 [==============================] - 17s 307ms/step - loss: 0.0014\n",
            "Epoch 52/52\n",
            "55/55 [==============================] - 17s 308ms/step - loss: 0.0013\n"
          ]
        },
        {
          "output_type": "execute_result",
          "data": {
            "text/plain": [
              "<keras.src.callbacks.History at 0x7961043dddb0>"
            ]
          },
          "metadata": {},
          "execution_count": 25
        }
      ]
    },
    {
      "cell_type": "code",
      "source": [
        "loss_value=[0.0247, 0.0047, 0.0036, 0.0033, 0.0042, 0.0032, 0.0035, 0.0028, 0.0030, 0.0026, 0.0030, 0.0026, 0.0023, 0.0020, 0.0024, 0.0022, 0.0019, 0.0019, 0.0023, 0.0020, 0.0019, 0.0018, 0.0018, 0.0020, 0.0019, 0.0018, 0.0017, 0.0016, 0.0016, 0.0016, 0.0016, 0.0017, 0.0016, 0.0016, 0.0015, 0.0015, 0.0015, 0.0013, 0.0016, 0.0014, 0.0014, 0.0013, 0.0011, 0.0012, 0.0013, 0.0016, 0.0013, 0.0013, 0.0013, 0.0012, 0.0013, 0.0014]\n",
        "\n",
        "#collect all loss record in []\n",
        "plt.plot(loss_value) #plot the result\n",
        "\n",
        "#lebal chart name\n",
        "plt.title('Training Loss')\n",
        "plt.xlabel('Epoch')\n",
        "plt.ylabel('Loss')\n",
        "plt.show()"
      ],
      "metadata": {
        "colab": {
          "base_uri": "https://localhost:8080/",
          "height": 472
        },
        "id": "qZhk9lqLdJFU",
        "outputId": "84e3179a-3ec4-4948-ab2b-bd796fda7c58"
      },
      "id": "qZhk9lqLdJFU",
      "execution_count": 26,
      "outputs": [
        {
          "output_type": "display_data",
          "data": {
            "text/plain": [
              "<Figure size 640x480 with 1 Axes>"
            ],
            "image/png": "[encoded data removed]"
          },
          "metadata": {}
        }
      ]
    },
    {
      "cell_type": "markdown",
      "source": [
        "**Model summary interpretation:**\n",
        "\n",
        "\n",
        "\n",
        "*   There are 4 layers in the LSTM model\n",
        "\n",
        "*   (None, 100, 50) means 100  time sequence step, 50 neurons in that layer\n",
        "*   The total number of training parameters is 203,641\n",
        "\n",
        "\n",
        "*   Train 52 Epochs\n",
        "*   Batch size is set to 33\n",
        "\n",
        "\n",
        "*   Set the Dropout in order to reduce the risk of overfitting\n",
        "\n",
        "\n",
        "\n",
        "\n",
        "\n",
        "\n",
        "\n",
        "\n",
        "\n",
        "\n"
      ],
      "metadata": {
        "id": "jAQSsmfFHfW-"
      },
      "id": "jAQSsmfFHfW-"
    },
    {
      "cell_type": "markdown",
      "source": [
        "In the training set of this model the loss value gradually becomes smaller\n",
        "\n",
        "**Loss value:** Evaluating the loss value of a model on a test set is a common evaluation metric.Then, the loss value is the difference between the predicted value and the actual value of the model, and the smaller the loss value, the better prediction effect of the model."
      ],
      "metadata": {
        "id": "_UhWfILB1hAR"
      },
      "id": "_UhWfILB1hAR"
    },
    {
      "cell_type": "code",
      "source": [
        "model.summary()\n",
        "#get LSTM model summary"
      ],
      "metadata": {
        "colab": {
          "base_uri": "https://localhost:8080/"
        },
        "id": "CAkdMSluCAhg",
        "outputId": "2d1a8432-e29f-4e04-e055-ab2eba399195"
      },
      "id": "CAkdMSluCAhg",
      "execution_count": 27,
      "outputs": [
        {
          "output_type": "stream",
          "name": "stdout",
          "text": [
            "Model: \"sequential\"\n",
            "_________________________________________________________________\n",
            " Layer (type)                Output Shape              Param #   \n",
            "=================================================================\n",
            " lstm (LSTM)                 (None, 100, 50)           10400     \n",
            "                                                                 \n",
            " dropout (Dropout)           (None, 100, 50)           0         \n",
            "                                                                 \n",
            " lstm_1 (LSTM)               (None, 100, 70)           33880     \n",
            "                                                                 \n",
            " dropout_1 (Dropout)         (None, 100, 70)           0         \n",
            "                                                                 \n",
            " lstm_2 (LSTM)               (None, 100, 90)           57960     \n",
            "                                                                 \n",
            " dropout_2 (Dropout)         (None, 100, 90)           0         \n",
            "                                                                 \n",
            " lstm_3 (LSTM)               (None, 120)               101280    \n",
            "                                                                 \n",
            " dropout_3 (Dropout)         (None, 120)               0         \n",
            "                                                                 \n",
            " dense (Dense)               (None, 1)                 121       \n",
            "                                                                 \n",
            "=================================================================\n",
            "Total params: 203641 (795.47 KB)\n",
            "Trainable params: 203641 (795.47 KB)\n",
            "Non-trainable params: 0 (0.00 Byte)\n",
            "_________________________________________________________________\n"
          ]
        }
      ]
    },
    {
      "cell_type": "markdown",
      "source": [
        "### **Let's testing our model**"
      ],
      "metadata": {
        "id": "4NcmakK1Clmn"
      },
      "id": "4NcmakK1Clmn"
    },
    {
      "cell_type": "code",
      "source": [
        "#past 100days date will be calculate\n",
        "#last 100 testing data from the training data set\n",
        "past_100_days=data_training.tail(100)"
      ],
      "metadata": {
        "id": "Gv_V8_siCiVe"
      },
      "id": "Gv_V8_siCiVe",
      "execution_count": 28,
      "outputs": []
    },
    {
      "cell_type": "code",
      "source": [
        "data_testing =pd.concat([past_100_days, data_testing], ignore_index=True)  # combine testing data and past 100days data"
      ],
      "metadata": {
        "id": "11Do191SJ3rq"
      },
      "id": "11Do191SJ3rq",
      "execution_count": 29,
      "outputs": []
    },
    {
      "cell_type": "code",
      "source": [
        "data_testing_scale= scaler.fit_transform(data_testing)\n",
        "#we need to make sure the data is in the same range"
      ],
      "metadata": {
        "id": "pBat_tHaKaBg"
      },
      "id": "pBat_tHaKaBg",
      "execution_count": 30,
      "outputs": []
    },
    {
      "cell_type": "code",
      "source": [
        "y=[]   #The testing data is stored in two blank lists, predict the outcome value of Y\n",
        "x=[]\n",
        "for i in range(100, data_testing_scale.shape[0]):\n",
        "  x.append(data_testing_scale[i-100:i])   #Data range from i-100 to i\n",
        "  y.append(data_testing_scale[i,0])\n",
        "x,y = np.array(x), np.array(y)"
      ],
      "metadata": {
        "id": "2qGz5lnfLIyr"
      },
      "id": "2qGz5lnfLIyr",
      "execution_count": 31,
      "outputs": []
    },
    {
      "cell_type": "code",
      "source": [
        "predict_y =model.predict(x)\n",
        "#input x into model"
      ],
      "metadata": {
        "colab": {
          "base_uri": "https://localhost:8080/"
        },
        "id": "AVs-svXuLlGf",
        "outputId": "9fe77f05-c79e-4c5c-f150-58fa75c4fd94"
      },
      "id": "AVs-svXuLlGf",
      "execution_count": 32,
      "outputs": [
        {
          "output_type": "stream",
          "name": "stdout",
          "text": [
            "20/20 [==============================] - 2s 86ms/step\n"
          ]
        }
      ]
    },
    {
      "cell_type": "code",
      "source": [
        "scale=1/scaler.scale_     #Range of data, scaling\n"
      ],
      "metadata": {
        "id": "0MNfrC5mMTwN"
      },
      "id": "0MNfrC5mMTwN",
      "execution_count": 33,
      "outputs": []
    },
    {
      "cell_type": "code",
      "source": [
        "predict_y=predict_y*scale\n",
        "#inverse scaling"
      ],
      "metadata": {
        "id": "_zMqDTtrMw20"
      },
      "id": "_zMqDTtrMw20",
      "execution_count": 34,
      "outputs": []
    },
    {
      "cell_type": "code",
      "source": [
        "y=y*scale\n",
        "# our target variable outcome is y"
      ],
      "metadata": {
        "id": "raxZiLWOM6l9"
      },
      "id": "raxZiLWOM6l9",
      "execution_count": 35,
      "outputs": []
    },
    {
      "cell_type": "markdown",
      "source": [
        "\n",
        "\n",
        "*   **y is Actual closing price**\n",
        "*   **predict_y is LSTM prediction  price**\n",
        "\n",
        "\n",
        "\n",
        "\n",
        "\n",
        "There will plot the chart, which compare the prediction and actual price"
      ],
      "metadata": {
        "id": "AqJz3_eYtoUf"
      },
      "id": "AqJz3_eYtoUf"
    },
    {
      "cell_type": "code",
      "source": [
        "plt.figure(figsize=(9,6))      #show chart: label x,y name, and line color\n",
        "plt.plot(predict_y,'orange', label='Prediction price')\n",
        "plt.plot(y,'blue', label='Actual price')\n",
        "plt.xlabel('Trading days')\n",
        "plt.ylabel('Closing Price')\n",
        "plt.title('AAPL Stock Price Prediction')  #chart tltle\n",
        "plt.legend()\n",
        "plt.show()"
      ],
      "metadata": {
        "colab": {
          "base_uri": "https://localhost:8080/",
          "height": 564
        },
        "id": "bafYGoliNA--",
        "outputId": "397e3722-ac17-45f8-f74d-8231e56dc4ed"
      },
      "id": "bafYGoliNA--",
      "execution_count": 36,
      "outputs": [
        {
          "output_type": "display_data",
          "data": {
            "text/plain": [
              "<Figure size 900x600 with 1 Axes>"
            ],
            "image/png": "[encoded data removed]"
          },
          "metadata": {}
        }
      ]
    },
    {
      "cell_type": "markdown",
      "source": [
        "In my view, LSTM predicted price movements similar to actual closing price movements. Further, the maximum peak value predicted by the model is lower than the actual closing price."
      ],
      "metadata": {
        "id": "I0HG1YcXSgzp"
      },
      "id": "I0HG1YcXSgzp"
    },
    {
      "cell_type": "code",
      "source": [
        "model.save('Apple stock LSTM prediction model')  #save modle and name"
      ],
      "metadata": {
        "id": "OssX5EEuOmmN"
      },
      "id": "OssX5EEuOmmN",
      "execution_count": 37,
      "outputs": []
    },
    {
      "cell_type": "markdown",
      "source": [
        "### **Predicting Apple Stock Prices with Machine Learning Using Linear Regression**\n",
        "\n",
        "By analyzing historical stock price data, we can find hidden patterns and trends and predict future stock price movements."
      ],
      "metadata": {
        "id": "TKn_BCCRjVcd"
      },
      "id": "TKn_BCCRjVcd"
    },
    {
      "cell_type": "markdown",
      "source": [
        "There will compare the LSTM and Regression model."
      ],
      "metadata": {
        "id": "Y8U0ukaaOVaK"
      },
      "id": "Y8U0ukaaOVaK"
    },
    {
      "cell_type": "code",
      "source": [
        "from sklearn.linear_model import LinearRegression"
      ],
      "metadata": {
        "id": "YIJvuxwDSd6o"
      },
      "id": "YIJvuxwDSd6o",
      "execution_count": 38,
      "outputs": []
    },
    {
      "cell_type": "markdown",
      "source": [
        "pip install scikit-learn"
      ],
      "metadata": {
        "id": "Kd8AnNipoJYq"
      },
      "id": "Kd8AnNipoJYq"
    },
    {
      "cell_type": "code",
      "source": [
        "data_training = pd.DataFrame(data.Close[0:int(len(data)*0.75)])     # 75% training data set\n",
        "data_testing = pd.DataFrame(data.Close[int(len(data)*0.75):len(data)])   #25% testing data set"
      ],
      "metadata": {
        "id": "BhbsNFY-3Ini"
      },
      "id": "BhbsNFY-3Ini",
      "execution_count": 39,
      "outputs": []
    },
    {
      "cell_type": "code",
      "source": [
        "y_train = np.array(data_training['Close']).reshape(-1, 1)\n",
        "#the training closing price of the stock  converted into an array of NumPy\n",
        "x_train = np.array(range(1, len(data_training) + 1)).reshape(-1, 1)\n",
        "#convert the data into a model, reshape(-1, 1)"
      ],
      "metadata": {
        "id": "FyYRrBSe3NXI"
      },
      "id": "FyYRrBSe3NXI",
      "execution_count": 40,
      "outputs": []
    },
    {
      "cell_type": "code",
      "source": [
        "data_training   #1888 training data"
      ],
      "metadata": {
        "colab": {
          "base_uri": "https://localhost:8080/",
          "height": 424
        },
        "id": "EgcMl7XWUwnX",
        "outputId": "a9e5a64e-a999-461d-d8bc-7b41b79ad7a8"
      },
      "id": "EgcMl7XWUwnX",
      "execution_count": 41,
      "outputs": [
        {
          "output_type": "execute_result",
          "data": {
            "text/plain": [
              "          Close\n",
              "0     19.608213\n",
              "1     19.360714\n",
              "2     18.821428\n",
              "3     18.710714\n",
              "4     18.761070\n",
              "...         ...\n",
              "1883  91.209999\n",
              "1884  88.407501\n",
              "1885  90.445000\n",
              "1886  91.199997\n",
              "1887  91.027496\n",
              "\n",
              "[1888 rows x 1 columns]"
            ],
            "text/html": [
              "\n",
              "  <div id=\"df-4d0d4def-a3e6-4d6e-8b4d-bd8efd1c87e6\" class=\"colab-df-container\">\n",
              "    <div>\n",
              "<style scoped>\n",
              "    .dataframe tbody tr th:only-of-type {\n",
              "        vertical-align: middle;\n",
              "    }\n",
              "\n",
              "    .dataframe tbody tr th {\n",
              "        vertical-align: top;\n",
              "    }\n",
              "\n",
              "    .dataframe thead th {\n",
              "        text-align: right;\n",
              "    }\n",
              "</style>\n",
              "<table border=\"1\" class=\"dataframe\">\n",
              "  <thead>\n",
              "    <tr style=\"text-align: right;\">\n",
              "      <th></th>\n",
              "      <th>Close</th>\n",
              "    </tr>\n",
              "  </thead>\n",
              "  <tbody>\n",
              "    <tr>\n",
              "      <th>0</th>\n",
              "      <td>19.608213</td>\n",
              "    </tr>\n",
              "    <tr>\n",
              "      <th>1</th>\n",
              "      <td>19.360714</td>\n",
              "    </tr>\n",
              "    <tr>\n",
              "      <th>2</th>\n",
              "      <td>18.821428</td>\n",
              "    </tr>\n",
              "    <tr>\n",
              "      <th>3</th>\n",
              "      <td>18.710714</td>\n",
              "    </tr>\n",
              "    <tr>\n",
              "      <th>4</th>\n",
              "      <td>18.761070</td>\n",
              "    </tr>\n",
              "    <tr>\n",
              "      <th>...</th>\n",
              "      <td>...</td>\n",
              "    </tr>\n",
              "    <tr>\n",
              "      <th>1883</th>\n",
              "      <td>91.209999</td>\n",
              "    </tr>\n",
              "    <tr>\n",
              "      <th>1884</th>\n",
              "      <td>88.407501</td>\n",
              "    </tr>\n",
              "    <tr>\n",
              "      <th>1885</th>\n",
              "      <td>90.445000</td>\n",
              "    </tr>\n",
              "    <tr>\n",
              "      <th>1886</th>\n",
              "      <td>91.199997</td>\n",
              "    </tr>\n",
              "    <tr>\n",
              "      <th>1887</th>\n",
              "      <td>91.027496</td>\n",
              "    </tr>\n",
              "  </tbody>\n",
              "</table>\n",
              "<p>1888 rows × 1 columns</p>\n",
              "</div>\n",
              "    <div class=\"colab-df-buttons\">\n",
              "\n",
              "  <div class=\"colab-df-container\">\n",
              "    <button class=\"colab-df-convert\" onclick=\"convertToInteractive('df-4d0d4def-a3e6-4d6e-8b4d-bd8efd1c87e6')\"\n",
              "            title=\"Convert this dataframe to an interactive table.\"\n",
              "            style=\"display:none;\">\n",
              "\n",
              "  <svg xmlns=\"http://www.w3.org/2000/svg\" height=\"24px\" viewBox=\"0 -960 960 960\">\n",
              "    <path d=\"M120-120v-720h720v720H120Zm60-500h600v-160H180v160Zm220 220h160v-160H400v160Zm0 220h160v-160H400v160ZM180-400h160v-160H180v160Zm440 0h160v-160H620v160ZM180-180h160v-160H180v160Zm440 0h160v-160H620v160Z\"/>\n",
              "  </svg>\n",
              "    </button>\n",
              "\n",
              "  <style>\n",
              "    .colab-df-container {\n",
              "      display:flex;\n",
              "      gap: 12px;\n",
              "    }\n",
              "\n",
              "    .colab-df-convert {\n",
              "      background-color: #E8F0FE;\n",
              "      border: none;\n",
              "      border-radius: 50%;\n",
              "      cursor: pointer;\n",
              "      display: none;\n",
              "      fill: #1967D2;\n",
              "      height: 32px;\n",
              "      padding: 0 0 0 0;\n",
              "      width: 32px;\n",
              "    }\n",
              "\n",
              "    .colab-df-convert:hover {\n",
              "      background-color: #E2EBFA;\n",
              "      box-shadow: 0px 1px 2px rgba(60, 64, 67, 0.3), 0px 1px 3px 1px rgba(60, 64, 67, 0.15);\n",
              "      fill: #174EA6;\n",
              "    }\n",
              "\n",
              "    .colab-df-buttons div {\n",
              "      margin-bottom: 4px;\n",
              "    }\n",
              "\n",
              "    [theme=dark] .colab-df-convert {\n",
              "      background-color: #3B4455;\n",
              "      fill: #D2E3FC;\n",
              "    }\n",
              "\n",
              "    [theme=dark] .colab-df-convert:hover {\n",
              "      background-color: #434B5C;\n",
              "      box-shadow: 0px 1px 3px 1px rgba(0, 0, 0, 0.15);\n",
              "      filter: drop-shadow(0px 1px 2px rgba(0, 0, 0, 0.3));\n",
              "      fill: #FFFFFF;\n",
              "    }\n",
              "  </style>\n",
              "\n",
              "    <script>\n",
              "      const buttonEl =\n",
              "        document.querySelector('#df-4d0d4def-a3e6-4d6e-8b4d-bd8efd1c87e6 button.colab-df-convert');\n",
              "      buttonEl.style.display =\n",
              "        google.colab.kernel.accessAllowed ? 'block' : 'none';\n",
              "\n",
              "      async function convertToInteractive(key) {\n",
              "        const element = document.querySelector('#df-4d0d4def-a3e6-4d6e-8b4d-bd8efd1c87e6');\n",
              "        const dataTable =\n",
              "          await google.colab.kernel.invokeFunction('convertToInteractive',\n",
              "                                                    [key], {});\n",
              "        if (!dataTable) return;\n",
              "\n",
              "        const docLinkHtml = 'Like what you see? Visit the ' +\n",
              "          '<a target=\"_blank\" href=https://colab.research.google.com/notebooks/data_table.ipynb>data table notebook</a>'\n",
              "          + ' to learn more about interactive tables.';\n",
              "        element.innerHTML = '';\n",
              "        dataTable['output_type'] = 'display_data';\n",
              "        await google.colab.output.renderOutput(dataTable, element);\n",
              "        const docLink = document.createElement('div');\n",
              "        docLink.innerHTML = docLinkHtml;\n",
              "        element.appendChild(docLink);\n",
              "      }\n",
              "    </script>\n",
              "  </div>\n",
              "\n",
              "\n",
              "<div id=\"df-929cdcf3-52bb-41df-aca4-a7aad01d4b09\">\n",
              "  <button class=\"colab-df-quickchart\" onclick=\"quickchart('df-929cdcf3-52bb-41df-aca4-a7aad01d4b09')\"\n",
              "            title=\"Suggest charts\"\n",
              "            style=\"display:none;\">\n",
              "\n",
              "<svg xmlns=\"http://www.w3.org/2000/svg\" height=\"24px\"viewBox=\"0 0 24 24\"\n",
              "     width=\"24px\">\n",
              "    <g>\n",
              "        <path d=\"M19 3H5c-1.1 0-2 .9-2 2v14c0 1.1.9 2 2 2h14c1.1 0 2-.9 2-2V5c0-1.1-.9-2-2-2zM9 17H7v-7h2v7zm4 0h-2V7h2v10zm4 0h-2v-4h2v4z\"/>\n",
              "    </g>\n",
              "</svg>\n",
              "  </button>\n",
              "\n",
              "<style>\n",
              "  .colab-df-quickchart {\n",
              "      --bg-color: #E8F0FE;\n",
              "      --fill-color: #1967D2;\n",
              "      --hover-bg-color: #E2EBFA;\n",
              "      --hover-fill-color: #174EA6;\n",
              "      --disabled-fill-color: #AAA;\n",
              "      --disabled-bg-color: #DDD;\n",
              "  }\n",
              "\n",
              "  [theme=dark] .colab-df-quickchart {\n",
              "      --bg-color: #3B4455;\n",
              "      --fill-color: #D2E3FC;\n",
              "      --hover-bg-color: #434B5C;\n",
              "      --hover-fill-color: #FFFFFF;\n",
              "      --disabled-bg-color: #3B4455;\n",
              "      --disabled-fill-color: #666;\n",
              "  }\n",
              "\n",
              "  .colab-df-quickchart {\n",
              "    background-color: var(--bg-color);\n",
              "    border: none;\n",
              "    border-radius: 50%;\n",
              "    cursor: pointer;\n",
              "    display: none;\n",
              "    fill: var(--fill-color);\n",
              "    height: 32px;\n",
              "    padding: 0;\n",
              "    width: 32px;\n",
              "  }\n",
              "\n",
              "  .colab-df-quickchart:hover {\n",
              "    background-color: var(--hover-bg-color);\n",
              "    box-shadow: 0 1px 2px rgba(60, 64, 67, 0.3), 0 1px 3px 1px rgba(60, 64, 67, 0.15);\n",
              "    fill: var(--button-hover-fill-color);\n",
              "  }\n",
              "\n",
              "  .colab-df-quickchart-complete:disabled,\n",
              "  .colab-df-quickchart-complete:disabled:hover {\n",
              "    background-color: var(--disabled-bg-color);\n",
              "    fill: var(--disabled-fill-color);\n",
              "    box-shadow: none;\n",
              "  }\n",
              "\n",
              "  .colab-df-spinner {\n",
              "    border: 2px solid var(--fill-color);\n",
              "    border-color: transparent;\n",
              "    border-bottom-color: var(--fill-color);\n",
              "    animation:\n",
              "      spin 1s steps(1) infinite;\n",
              "  }\n",
              "\n",
              "  @keyframes spin {\n",
              "    0% {\n",
              "      border-color: transparent;\n",
              "      border-bottom-color: var(--fill-color);\n",
              "      border-left-color: var(--fill-color);\n",
              "    }\n",
              "    20% {\n",
              "      border-color: transparent;\n",
              "      border-left-color: var(--fill-color);\n",
              "      border-top-color: var(--fill-color);\n",
              "    }\n",
              "    30% {\n",
              "      border-color: transparent;\n",
              "      border-left-color: var(--fill-color);\n",
              "      border-top-color: var(--fill-color);\n",
              "      border-right-color: var(--fill-color);\n",
              "    }\n",
              "    40% {\n",
              "      border-color: transparent;\n",
              "      border-right-color: var(--fill-color);\n",
              "      border-top-color: var(--fill-color);\n",
              "    }\n",
              "    60% {\n",
              "      border-color: transparent;\n",
              "      border-right-color: var(--fill-color);\n",
              "    }\n",
              "    80% {\n",
              "      border-color: transparent;\n",
              "      border-right-color: var(--fill-color);\n",
              "      border-bottom-color: var(--fill-color);\n",
              "    }\n",
              "    90% {\n",
              "      border-color: transparent;\n",
              "      border-bottom-color: var(--fill-color);\n",
              "    }\n",
              "  }\n",
              "</style>\n",
              "\n",
              "  <script>\n",
              "    async function quickchart(key) {\n",
              "      const quickchartButtonEl =\n",
              "        document.querySelector('#' + key + ' button');\n",
              "      quickchartButtonEl.disabled = true;  // To prevent multiple clicks.\n",
              "      quickchartButtonEl.classList.add('colab-df-spinner');\n",
              "      try {\n",
              "        const charts = await google.colab.kernel.invokeFunction(\n",
              "            'suggestCharts', [key], {});\n",
              "      } catch (error) {\n",
              "        console.error('Error during call to suggestCharts:', error);\n",
              "      }\n",
              "      quickchartButtonEl.classList.remove('colab-df-spinner');\n",
              "      quickchartButtonEl.classList.add('colab-df-quickchart-complete');\n",
              "    }\n",
              "    (() => {\n",
              "      let quickchartButtonEl =\n",
              "        document.querySelector('#df-929cdcf3-52bb-41df-aca4-a7aad01d4b09 button');\n",
              "      quickchartButtonEl.style.display =\n",
              "        google.colab.kernel.accessAllowed ? 'block' : 'none';\n",
              "    })();\n",
              "  </script>\n",
              "</div>\n",
              "    </div>\n",
              "  </div>\n"
            ]
          },
          "metadata": {},
          "execution_count": 41
        }
      ]
    },
    {
      "cell_type": "markdown",
      "source": [
        "**Set up Regression modle and trainging data set**"
      ],
      "metadata": {
        "id": "pmgGMayM893b"
      },
      "id": "pmgGMayM893b"
    },
    {
      "cell_type": "code",
      "source": [
        "regressor = LinearRegression()\n",
        "#creat linear regression model\n",
        "regressor.fit(x_train, y_train)\n",
        "#find the best fit line to predict the target value (y)"
      ],
      "metadata": {
        "colab": {
          "base_uri": "https://localhost:8080/",
          "height": 75
        },
        "id": "vPJVUAJ-3Paw",
        "outputId": "a3759f05-5897-4163-9a99-a52eb7abd5b0"
      },
      "id": "vPJVUAJ-3Paw",
      "execution_count": 42,
      "outputs": [
        {
          "output_type": "execute_result",
          "data": {
            "text/plain": [
              "LinearRegression()"
            ],
            "text/html": [
              "<style>#sk-container-id-1 {color: black;background-color: white;}#sk-container-id-1 pre{padding: 0;}#sk-container-id-1 div.sk-toggleable {background-color: white;}#sk-container-id-1 label.sk-toggleable__label {cursor: pointer;display: block;width: 100%;margin-bottom: 0;padding: 0.3em;box-sizing: border-box;text-align: center;}#sk-container-id-1 label.sk-toggleable__label-arrow:before {content: \"▸\";float: left;margin-right: 0.25em;color: #696969;}#sk-container-id-1 label.sk-toggleable__label-arrow:hover:before {color: black;}#sk-container-id-1 div.sk-estimator:hover label.sk-toggleable__label-arrow:before {color: black;}#sk-container-id-1 div.sk-toggleable__content {max-height: 0;max-width: 0;overflow: hidden;text-align: left;background-color: #f0f8ff;}#sk-container-id-1 div.sk-toggleable__content pre {margin: 0.2em;color: black;border-radius: 0.25em;background-color: #f0f8ff;}#sk-container-id-1 input.sk-toggleable__control:checked~div.sk-toggleable__content {max-height: 200px;max-width: 100%;overflow: auto;}#sk-container-id-1 input.sk-toggleable__control:checked~label.sk-toggleable__label-arrow:before {content: \"▾\";}#sk-container-id-1 div.sk-estimator input.sk-toggleable__control:checked~label.sk-toggleable__label {background-color: #d4ebff;}#sk-container-id-1 div.sk-label input.sk-toggleable__control:checked~label.sk-toggleable__label {background-color: #d4ebff;}#sk-container-id-1 input.sk-hidden--visually {border: 0;clip: rect(1px 1px 1px 1px);clip: rect(1px, 1px, 1px, 1px);height: 1px;margin: -1px;overflow: hidden;padding: 0;position: absolute;width: 1px;}#sk-container-id-1 div.sk-estimator {font-family: monospace;background-color: #f0f8ff;border: 1px dotted black;border-radius: 0.25em;box-sizing: border-box;margin-bottom: 0.5em;}#sk-container-id-1 div.sk-estimator:hover {background-color: #d4ebff;}#sk-container-id-1 div.sk-parallel-item::after {content: \"\";width: 100%;border-bottom: 1px solid gray;flex-grow: 1;}#sk-container-id-1 div.sk-label:hover label.sk-toggleable__label {background-color: #d4ebff;}#sk-container-id-1 div.sk-serial::before {content: \"\";position: absolute;border-left: 1px solid gray;box-sizing: border-box;top: 0;bottom: 0;left: 50%;z-index: 0;}#sk-container-id-1 div.sk-serial {display: flex;flex-direction: column;align-items: center;background-color: white;padding-right: 0.2em;padding-left: 0.2em;position: relative;}#sk-container-id-1 div.sk-item {position: relative;z-index: 1;}#sk-container-id-1 div.sk-parallel {display: flex;align-items: stretch;justify-content: center;background-color: white;position: relative;}#sk-container-id-1 div.sk-item::before, #sk-container-id-1 div.sk-parallel-item::before {content: \"\";position: absolute;border-left: 1px solid gray;box-sizing: border-box;top: 0;bottom: 0;left: 50%;z-index: -1;}#sk-container-id-1 div.sk-parallel-item {display: flex;flex-direction: column;z-index: 1;position: relative;background-color: white;}#sk-container-id-1 div.sk-parallel-item:first-child::after {align-self: flex-end;width: 50%;}#sk-container-id-1 div.sk-parallel-item:last-child::after {align-self: flex-start;width: 50%;}#sk-container-id-1 div.sk-parallel-item:only-child::after {width: 0;}#sk-container-id-1 div.sk-dashed-wrapped {border: 1px dashed gray;margin: 0 0.4em 0.5em 0.4em;box-sizing: border-box;padding-bottom: 0.4em;background-color: white;}#sk-container-id-1 div.sk-label label {font-family: monospace;font-weight: bold;display: inline-block;line-height: 1.2em;}#sk-container-id-1 div.sk-label-container {text-align: center;}#sk-container-id-1 div.sk-container {/* jupyter's `normalize.less` sets `[hidden] { display: none; }` but bootstrap.min.css set `[hidden] { display: none !important; }` so we also need the `!important` here to be able to override the default hidden behavior on the sphinx rendered scikit-learn.org. See: https://github.com/scikit-learn/scikit-learn/issues/21755 */display: inline-block !important;position: relative;}#sk-container-id-1 div.sk-text-repr-fallback {display: none;}</style><div id=\"sk-container-id-1\" class=\"sk-top-container\"><div class=\"sk-text-repr-fallback\"><pre>LinearRegression()</pre><b>In a Jupyter environment, please rerun this cell to show the HTML representation or trust the notebook. <br />On GitHub, the HTML representation is unable to render, please try loading this page with nbviewer.org.</b></div><div class=\"sk-container\" hidden><div class=\"sk-item\"><div class=\"sk-estimator sk-toggleable\"><input class=\"sk-toggleable__control sk-hidden--visually\" id=\"sk-estimator-id-1\" type=\"checkbox\" checked><label for=\"sk-estimator-id-1\" class=\"sk-toggleable__label sk-toggleable__label-arrow\">LinearRegression</label><div class=\"sk-toggleable__content\"><pre>LinearRegression()</pre></div></div></div></div></div>"
            ]
          },
          "metadata": {},
          "execution_count": 42
        }
      ]
    },
    {
      "cell_type": "code",
      "source": [
        "y_test = np.array(data_testing['Close']).reshape(-1, 1)\n",
        "#25% test data converted into an array of NumPy\n",
        "x_test = np.array(range(len(data_training), len(data))).reshape(-1, 1)"
      ],
      "metadata": {
        "id": "z0oG4mv93Rrw"
      },
      "id": "z0oG4mv93Rrw",
      "execution_count": 43,
      "outputs": []
    },
    {
      "cell_type": "code",
      "source": [
        "y_predition_regression =  regressor.predict(x_test) #using regression model predicts x_test data"
      ],
      "metadata": {
        "id": "f6byB6IO3Tk2"
      },
      "id": "f6byB6IO3Tk2",
      "execution_count": 44,
      "outputs": []
    },
    {
      "cell_type": "code",
      "source": [
        "data_testing  #show how many testing data"
      ],
      "metadata": {
        "colab": {
          "base_uri": "https://localhost:8080/",
          "height": 424
        },
        "id": "9wdjaRw2DFrb",
        "outputId": "00932b76-5059-49ff-c20c-2abbeea1787f"
      },
      "id": "9wdjaRw2DFrb",
      "execution_count": 45,
      "outputs": [
        {
          "output_type": "execute_result",
          "data": {
            "text/plain": [
              "           Close\n",
              "1888   91.027496\n",
              "1889   93.462502\n",
              "1890   93.172501\n",
              "1891   95.342499\n",
              "1892   95.752502\n",
              "...          ...\n",
              "2513  131.860001\n",
              "2514  130.029999\n",
              "2515  126.040001\n",
              "2516  129.610001\n",
              "2517  129.929993\n",
              "\n",
              "[630 rows x 1 columns]"
            ],
            "text/html": [
              "\n",
              "  <div id=\"df-c08738bd-d0ba-4ea4-b241-4b691cbefcb5\" class=\"colab-df-container\">\n",
              "    <div>\n",
              "<style scoped>\n",
              "    .dataframe tbody tr th:only-of-type {\n",
              "        vertical-align: middle;\n",
              "    }\n",
              "\n",
              "    .dataframe tbody tr th {\n",
              "        vertical-align: top;\n",
              "    }\n",
              "\n",
              "    .dataframe thead th {\n",
              "        text-align: right;\n",
              "    }\n",
              "</style>\n",
              "<table border=\"1\" class=\"dataframe\">\n",
              "  <thead>\n",
              "    <tr style=\"text-align: right;\">\n",
              "      <th></th>\n",
              "      <th>Close</th>\n",
              "    </tr>\n",
              "  </thead>\n",
              "  <tbody>\n",
              "    <tr>\n",
              "      <th>1888</th>\n",
              "      <td>91.027496</td>\n",
              "    </tr>\n",
              "    <tr>\n",
              "      <th>1889</th>\n",
              "      <td>93.462502</td>\n",
              "    </tr>\n",
              "    <tr>\n",
              "      <th>1890</th>\n",
              "      <td>93.172501</td>\n",
              "    </tr>\n",
              "    <tr>\n",
              "      <th>1891</th>\n",
              "      <td>95.342499</td>\n",
              "    </tr>\n",
              "    <tr>\n",
              "      <th>1892</th>\n",
              "      <td>95.752502</td>\n",
              "    </tr>\n",
              "    <tr>\n",
              "      <th>...</th>\n",
              "      <td>...</td>\n",
              "    </tr>\n",
              "    <tr>\n",
              "      <th>2513</th>\n",
              "      <td>131.860001</td>\n",
              "    </tr>\n",
              "    <tr>\n",
              "      <th>2514</th>\n",
              "      <td>130.029999</td>\n",
              "    </tr>\n",
              "    <tr>\n",
              "      <th>2515</th>\n",
              "      <td>126.040001</td>\n",
              "    </tr>\n",
              "    <tr>\n",
              "      <th>2516</th>\n",
              "      <td>129.610001</td>\n",
              "    </tr>\n",
              "    <tr>\n",
              "      <th>2517</th>\n",
              "      <td>129.929993</td>\n",
              "    </tr>\n",
              "  </tbody>\n",
              "</table>\n",
              "<p>630 rows × 1 columns</p>\n",
              "</div>\n",
              "    <div class=\"colab-df-buttons\">\n",
              "\n",
              "  <div class=\"colab-df-container\">\n",
              "    <button class=\"colab-df-convert\" onclick=\"convertToInteractive('df-c08738bd-d0ba-4ea4-b241-4b691cbefcb5')\"\n",
              "            title=\"Convert this dataframe to an interactive table.\"\n",
              "            style=\"display:none;\">\n",
              "\n",
              "  <svg xmlns=\"http://www.w3.org/2000/svg\" height=\"24px\" viewBox=\"0 -960 960 960\">\n",
              "    <path d=\"M120-120v-720h720v720H120Zm60-500h600v-160H180v160Zm220 220h160v-160H400v160Zm0 220h160v-160H400v160ZM180-400h160v-160H180v160Zm440 0h160v-160H620v160ZM180-180h160v-160H180v160Zm440 0h160v-160H620v160Z\"/>\n",
              "  </svg>\n",
              "    </button>\n",
              "\n",
              "  <style>\n",
              "    .colab-df-container {\n",
              "      display:flex;\n",
              "      gap: 12px;\n",
              "    }\n",
              "\n",
              "    .colab-df-convert {\n",
              "      background-color: #E8F0FE;\n",
              "      border: none;\n",
              "      border-radius: 50%;\n",
              "      cursor: pointer;\n",
              "      display: none;\n",
              "      fill: #1967D2;\n",
              "      height: 32px;\n",
              "      padding: 0 0 0 0;\n",
              "      width: 32px;\n",
              "    }\n",
              "\n",
              "    .colab-df-convert:hover {\n",
              "      background-color: #E2EBFA;\n",
              "      box-shadow: 0px 1px 2px rgba(60, 64, 67, 0.3), 0px 1px 3px 1px rgba(60, 64, 67, 0.15);\n",
              "      fill: #174EA6;\n",
              "    }\n",
              "\n",
              "    .colab-df-buttons div {\n",
              "      margin-bottom: 4px;\n",
              "    }\n",
              "\n",
              "    [theme=dark] .colab-df-convert {\n",
              "      background-color: #3B4455;\n",
              "      fill: #D2E3FC;\n",
              "    }\n",
              "\n",
              "    [theme=dark] .colab-df-convert:hover {\n",
              "      background-color: #434B5C;\n",
              "      box-shadow: 0px 1px 3px 1px rgba(0, 0, 0, 0.15);\n",
              "      filter: drop-shadow(0px 1px 2px rgba(0, 0, 0, 0.3));\n",
              "      fill: #FFFFFF;\n",
              "    }\n",
              "  </style>\n",
              "\n",
              "    <script>\n",
              "      const buttonEl =\n",
              "        document.querySelector('#df-c08738bd-d0ba-4ea4-b241-4b691cbefcb5 button.colab-df-convert');\n",
              "      buttonEl.style.display =\n",
              "        google.colab.kernel.accessAllowed ? 'block' : 'none';\n",
              "\n",
              "      async function convertToInteractive(key) {\n",
              "        const element = document.querySelector('#df-c08738bd-d0ba-4ea4-b241-4b691cbefcb5');\n",
              "        const dataTable =\n",
              "          await google.colab.kernel.invokeFunction('convertToInteractive',\n",
              "                                                    [key], {});\n",
              "        if (!dataTable) return;\n",
              "\n",
              "        const docLinkHtml = 'Like what you see? Visit the ' +\n",
              "          '<a target=\"_blank\" href=https://colab.research.google.com/notebooks/data_table.ipynb>data table notebook</a>'\n",
              "          + ' to learn more about interactive tables.';\n",
              "        element.innerHTML = '';\n",
              "        dataTable['output_type'] = 'display_data';\n",
              "        await google.colab.output.renderOutput(dataTable, element);\n",
              "        const docLink = document.createElement('div');\n",
              "        docLink.innerHTML = docLinkHtml;\n",
              "        element.appendChild(docLink);\n",
              "      }\n",
              "    </script>\n",
              "  </div>\n",
              "\n",
              "\n",
              "<div id=\"df-4f3a3b90-ce38-4c34-967b-fbf578def573\">\n",
              "  <button class=\"colab-df-quickchart\" onclick=\"quickchart('df-4f3a3b90-ce38-4c34-967b-fbf578def573')\"\n",
              "            title=\"Suggest charts\"\n",
              "            style=\"display:none;\">\n",
              "\n",
              "<svg xmlns=\"http://www.w3.org/2000/svg\" height=\"24px\"viewBox=\"0 0 24 24\"\n",
              "     width=\"24px\">\n",
              "    <g>\n",
              "        <path d=\"M19 3H5c-1.1 0-2 .9-2 2v14c0 1.1.9 2 2 2h14c1.1 0 2-.9 2-2V5c0-1.1-.9-2-2-2zM9 17H7v-7h2v7zm4 0h-2V7h2v10zm4 0h-2v-4h2v4z\"/>\n",
              "    </g>\n",
              "</svg>\n",
              "  </button>\n",
              "\n",
              "<style>\n",
              "  .colab-df-quickchart {\n",
              "      --bg-color: #E8F0FE;\n",
              "      --fill-color: #1967D2;\n",
              "      --hover-bg-color: #E2EBFA;\n",
              "      --hover-fill-color: #174EA6;\n",
              "      --disabled-fill-color: #AAA;\n",
              "      --disabled-bg-color: #DDD;\n",
              "  }\n",
              "\n",
              "  [theme=dark] .colab-df-quickchart {\n",
              "      --bg-color: #3B4455;\n",
              "      --fill-color: #D2E3FC;\n",
              "      --hover-bg-color: #434B5C;\n",
              "      --hover-fill-color: #FFFFFF;\n",
              "      --disabled-bg-color: #3B4455;\n",
              "      --disabled-fill-color: #666;\n",
              "  }\n",
              "\n",
              "  .colab-df-quickchart {\n",
              "    background-color: var(--bg-color);\n",
              "    border: none;\n",
              "    border-radius: 50%;\n",
              "    cursor: pointer;\n",
              "    display: none;\n",
              "    fill: var(--fill-color);\n",
              "    height: 32px;\n",
              "    padding: 0;\n",
              "    width: 32px;\n",
              "  }\n",
              "\n",
              "  .colab-df-quickchart:hover {\n",
              "    background-color: var(--hover-bg-color);\n",
              "    box-shadow: 0 1px 2px rgba(60, 64, 67, 0.3), 0 1px 3px 1px rgba(60, 64, 67, 0.15);\n",
              "    fill: var(--button-hover-fill-color);\n",
              "  }\n",
              "\n",
              "  .colab-df-quickchart-complete:disabled,\n",
              "  .colab-df-quickchart-complete:disabled:hover {\n",
              "    background-color: var(--disabled-bg-color);\n",
              "    fill: var(--disabled-fill-color);\n",
              "    box-shadow: none;\n",
              "  }\n",
              "\n",
              "  .colab-df-spinner {\n",
              "    border: 2px solid var(--fill-color);\n",
              "    border-color: transparent;\n",
              "    border-bottom-color: var(--fill-color);\n",
              "    animation:\n",
              "      spin 1s steps(1) infinite;\n",
              "  }\n",
              "\n",
              "  @keyframes spin {\n",
              "    0% {\n",
              "      border-color: transparent;\n",
              "      border-bottom-color: var(--fill-color);\n",
              "      border-left-color: var(--fill-color);\n",
              "    }\n",
              "    20% {\n",
              "      border-color: transparent;\n",
              "      border-left-color: var(--fill-color);\n",
              "      border-top-color: var(--fill-color);\n",
              "    }\n",
              "    30% {\n",
              "      border-color: transparent;\n",
              "      border-left-color: var(--fill-color);\n",
              "      border-top-color: var(--fill-color);\n",
              "      border-right-color: var(--fill-color);\n",
              "    }\n",
              "    40% {\n",
              "      border-color: transparent;\n",
              "      border-right-color: var(--fill-color);\n",
              "      border-top-color: var(--fill-color);\n",
              "    }\n",
              "    60% {\n",
              "      border-color: transparent;\n",
              "      border-right-color: var(--fill-color);\n",
              "    }\n",
              "    80% {\n",
              "      border-color: transparent;\n",
              "      border-right-color: var(--fill-color);\n",
              "      border-bottom-color: var(--fill-color);\n",
              "    }\n",
              "    90% {\n",
              "      border-color: transparent;\n",
              "      border-bottom-color: var(--fill-color);\n",
              "    }\n",
              "  }\n",
              "</style>\n",
              "\n",
              "  <script>\n",
              "    async function quickchart(key) {\n",
              "      const quickchartButtonEl =\n",
              "        document.querySelector('#' + key + ' button');\n",
              "      quickchartButtonEl.disabled = true;  // To prevent multiple clicks.\n",
              "      quickchartButtonEl.classList.add('colab-df-spinner');\n",
              "      try {\n",
              "        const charts = await google.colab.kernel.invokeFunction(\n",
              "            'suggestCharts', [key], {});\n",
              "      } catch (error) {\n",
              "        console.error('Error during call to suggestCharts:', error);\n",
              "      }\n",
              "      quickchartButtonEl.classList.remove('colab-df-spinner');\n",
              "      quickchartButtonEl.classList.add('colab-df-quickchart-complete');\n",
              "    }\n",
              "    (() => {\n",
              "      let quickchartButtonEl =\n",
              "        document.querySelector('#df-4f3a3b90-ce38-4c34-967b-fbf578def573 button');\n",
              "      quickchartButtonEl.style.display =\n",
              "        google.colab.kernel.accessAllowed ? 'block' : 'none';\n",
              "    })();\n",
              "  </script>\n",
              "</div>\n",
              "    </div>\n",
              "  </div>\n"
            ]
          },
          "metadata": {},
          "execution_count": 45
        }
      ]
    },
    {
      "cell_type": "markdown",
      "source": [
        "**Plot the model chart : Apple Stock Price Prediction - Testing Data**"
      ],
      "metadata": {
        "id": "7bMjU_LIDmfh"
      },
      "id": "7bMjU_LIDmfh"
    },
    {
      "cell_type": "code",
      "source": [
        "plt.figure(figsize=(9, 6))    #chart size\n",
        "plt.plot(y, color='blue', label='Actual Price')    #line color and label name\n",
        "plt.plot(y_predition_regression, color='red', label='Predicte Price by Regression')\n",
        "plt.plot(predict_y,'orange', label='Predicte price by LSTM')\n",
        "plt.title('Apple Stock Price Prediction - Testing Data')   #label title\n",
        "plt.xlabel('Days')    #label x axis\n",
        "plt.ylabel('Closing Price')  #label y axis\n",
        "plt.legend()\n",
        "plt.show()"
      ],
      "metadata": {
        "colab": {
          "base_uri": "https://localhost:8080/",
          "height": 564
        },
        "id": "q6E1roLK37zo",
        "outputId": "b430f75d-cec2-44d8-8176-73cbad18ed5e"
      },
      "id": "q6E1roLK37zo",
      "execution_count": 46,
      "outputs": [
        {
          "output_type": "display_data",
          "data": {
            "text/plain": [
              "<Figure size 900x600 with 1 Axes>"
            ],
            "image/png": "[encoded data removed]"
          },
          "metadata": {}
        }
      ]
    },
    {
      "cell_type": "markdown",
      "source": [
        "Different machine learning algorithms have various properties and domains of use. Then, We have to choose the right algorithms to make investment decisions.\n",
        "\n",
        "\n",
        "\n",
        "\n",
        "*   Linear regression is useful for predicting stock price movement.\n",
        "*   LSTM is able to forecast market fluctuations and stock price volatility.\n",
        "\n",
        "We need to calculate the root-mean-square error and compare which model is more accurate\n",
        "\n",
        "\n",
        "\n",
        "\n",
        "\n",
        "\n",
        "\n",
        "\n"
      ],
      "metadata": {
        "id": "s7hu87LxPx62"
      },
      "id": "s7hu87LxPx62"
    },
    {
      "cell_type": "markdown",
      "source": [
        "### **Root Mean Square Error(RMSE)**\n",
        "The Root Mean Square Error is a tool used to assess how well the model predicts the target value by calculating the deviation between the predicted and actual values.\n",
        "\n",
        "(To learn more about RMSE)\n",
        "\n",
        "https://help.sap.com/docs/SAP_ANALYTICS_CLOUD/00f68c2e08b941f081002fd3691d86a7/013dbeaff72444ca92dcafa75471f097.html?locale=en-US"
      ],
      "metadata": {
        "id": "fP2sk4knfZHK"
      },
      "id": "fP2sk4knfZHK"
    },
    {
      "cell_type": "code",
      "source": [
        "from sklearn.metrics import mean_squared_error"
      ],
      "metadata": {
        "id": "xG9XZX8Rd6_n"
      },
      "id": "xG9XZX8Rd6_n",
      "execution_count": 87,
      "outputs": []
    },
    {
      "cell_type": "code",
      "source": [
        "RMSE_LSTM = np.sqrt(mean_squared_error(y_test, predict_y))\n",
        "#Calculate the differnce of predicted value and actual orice\n",
        "#Calculate Root Mean Square Error"
      ],
      "metadata": {
        "id": "BqwBzuP5QGsy"
      },
      "id": "BqwBzuP5QGsy",
      "execution_count": 88,
      "outputs": []
    },
    {
      "cell_type": "code",
      "source": [
        "RMSE_regression = np.sqrt(mean_squared_error(y_test, y_predition_regression))\n",
        "#Calculate RMSE of regresssion\n",
        "#Find the discrepancy with actual closing price"
      ],
      "metadata": {
        "id": "HVuhzPqueB2b"
      },
      "id": "HVuhzPqueB2b",
      "execution_count": 89,
      "outputs": []
    },
    {
      "cell_type": "markdown",
      "source": [
        "**RMSE** offers a benchmark for assessing a model's predictive accuracy.\n",
        "\n",
        "\n",
        "\n"
      ],
      "metadata": {
        "id": "JPJDsovjNpH5"
      },
      "id": "JPJDsovjNpH5"
    },
    {
      "cell_type": "code",
      "source": [
        "print(\"RMSE of LSTM:\", RMSE_LSTM)  #print result\n",
        "print(\"RMSE of Regression:\", RMSE_regression)"
      ],
      "metadata": {
        "colab": {
          "base_uri": "https://localhost:8080/"
        },
        "id": "ftVa4GC7eNM0",
        "outputId": "0f31f5d8-c41b-4cb6-dd39-8baee129972e"
      },
      "id": "ftVa4GC7eNM0",
      "execution_count": 90,
      "outputs": [
        {
          "output_type": "stream",
          "name": "stdout",
          "text": [
            "RMSE of LSTM: 57.85352431284394\n",
            "RMSE of Regression: 72.7544846585389\n"
          ]
        }
      ]
    },
    {
      "cell_type": "markdown",
      "source": [
        "### **Mean Absolute Error(MAE)**\n",
        "\n",
        "The prediction model's evaluation error is the mean of the absolute differences between the actual and predicted values.\n",
        "\n",
        "The lower mean absolute error (MAE), that is the better for model.\n",
        "\n",
        "(To learn more about RMSE)\n",
        "\n",
        "https://help.sap.com/docs/SAP_ANALYTICS_CLOUD/00f68c2e08b941f081002fd3691d86a7/5bc44b67fb6f4f9283186ca0082a9873.html?locale=en-US"
      ],
      "metadata": {
        "id": "ToRvlVKiFsGL"
      },
      "id": "ToRvlVKiFsGL"
    },
    {
      "cell_type": "code",
      "source": [
        "from sklearn.metrics import mean_absolute_error   #make sure you have already: pip install scikit-learn"
      ],
      "metadata": {
        "id": "lGQxNzc3mSUc"
      },
      "id": "lGQxNzc3mSUc",
      "execution_count": 91,
      "outputs": []
    },
    {
      "cell_type": "code",
      "source": [
        "MAE_LSTM = mean_absolute_error(y_test, predict_y)\n",
        "#calculate MAE of LSTM testing data set"
      ],
      "metadata": {
        "id": "IvhCbDi1mTO9"
      },
      "id": "IvhCbDi1mTO9",
      "execution_count": 92,
      "outputs": []
    },
    {
      "cell_type": "code",
      "source": [
        "MAE_regression = mean_absolute_error(y_test, y_predition_regression)\n",
        "#calculate MAE of Regresssion testing data set"
      ],
      "metadata": {
        "id": "-5-QeFoImU_u"
      },
      "id": "-5-QeFoImU_u",
      "execution_count": 93,
      "outputs": []
    },
    {
      "cell_type": "code",
      "source": [
        "print(\"MAE of LSTM:\", MAE_LSTM)    #print result\n",
        "print(\"MAE of Regression:\", MAE_regression)"
      ],
      "metadata": {
        "colab": {
          "base_uri": "https://localhost:8080/"
        },
        "id": "ocoPrMXDmWl9",
        "outputId": "645224a9-3f88-49f3-d799-a6ce8344e2a9"
      },
      "id": "ocoPrMXDmWl9",
      "execution_count": 94,
      "outputs": [
        {
          "output_type": "stream",
          "name": "stdout",
          "text": [
            "MAE of LSTM: 57.572407785907416\n",
            "MAE of Regression: 70.83252110104918\n"
          ]
        }
      ]
    },
    {
      "cell_type": "markdown",
      "source": [
        "\n",
        "\n",
        "\n",
        "\n",
        "\n",
        "\n",
        "\n",
        "\n",
        "\n",
        "\n",
        "*   The model's prediction error distribution is uniform and there is no obvious extreme value or bias in the dataset, as shown by the large values of MAE and RMSE but not the large difference between the two values.\n",
        "*   LSTM predict stock price has higher accuracy.\n",
        "\n",
        "\n",
        "*   A lower RMSE and MAE value means that the model's prediction is closer to the actual observed value, so the LSTM model has the lower result than Regression model.\n",
        "\n",
        "\n",
        "\n"
      ],
      "metadata": {
        "id": "LQcEeTZwHOyT"
      },
      "id": "LQcEeTZwHOyT"
    },
    {
      "cell_type": "markdown",
      "source": [
        "### **Conclusion**\n",
        "\n"
      ],
      "metadata": {
        "id": "6P6_liXwVHxS"
      },
      "id": "6P6_liXwVHxS"
    },
    {
      "cell_type": "markdown",
      "source": [
        "This stock forecast report gives me a new understanding of the interact of mechanical learning and finance. According to the evaluation index results of RMSE and MAE, LSTM has a very good effect on the analysis of time series data. Moreover, there are some difference between the predicted value and the real closing price of the model, but based on the analysis and visualization results indicate that the general trend is still consistent.\n",
        "\n",
        "\n",
        "In my view, I believe the major inaccuracy is caused by the stock market's excessive volatility during certain times of the year, which lowers the accuracy of the backward data forecast based on the forward trend.\n",
        "\n"
      ],
      "metadata": {
        "id": "T65JOc2rWcLI"
      },
      "id": "T65JOc2rWcLI"
    }
  ],
  "metadata": {
    "kernelspec": {
      "display_name": "Python 3 (ipykernel)",
      "language": "python",
      "name": "python3"
    },
    "language_info": {
      "codemirror_mode": {
        "name": "ipython",
        "version": 3
      },
      "file_extension": ".py",
      "mimetype": "text/x-python",
      "name": "python",
      "nbconvert_exporter": "python",
      "pygments_lexer": "ipython3",
      "version": "3.11.4"
    },
    "colab": {
      "provenance": [],
      "include_colab_link": true
    }
  },
  "nbformat": 4,
  "nbformat_minor": 5
}